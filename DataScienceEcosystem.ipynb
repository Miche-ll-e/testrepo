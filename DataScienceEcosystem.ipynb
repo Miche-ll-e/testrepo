{
 "cells": [
  {
   "cell_type": "markdown",
   "id": "ad4d359e",
   "metadata": {},
   "source": [
    "# Data Science Tools and Ecosystem"
   ]
  },
  {
   "cell_type": "markdown",
   "id": "a1697d51",
   "metadata": {},
   "source": [
    "# In this notebook, Data Science Tools and Ecosystem are summarized."
   ]
  },
  {
   "cell_type": "markdown",
   "id": "33387e1a",
   "metadata": {},
   "source": [
    "# Objectives:\n",
    "* List popular languages for Data Science.\n",
    "* List Libraries used for Data Science.\n",
    "* List Data Science tools.\n",
    "* Know how to create arithmetic expressions in Python."
   ]
  },
  {
   "cell_type": "markdown",
   "id": "c2fa01cf",
   "metadata": {},
   "source": [
    "# Some of the popular languages that Data Scientist use are:\n",
    "1. Python\n",
    "2. R\n",
    "3. SQL"
   ]
  },
  {
   "cell_type": "markdown",
   "id": "ab18b864",
   "metadata": {},
   "source": [
    "# Some of the commonly used libraries used by Data Scientists include:\n",
    "1. Python Libraries\n",
    "2. Apache Spark\n",
    "3. Scala\n",
    "4. R"
   ]
  },
  {
   "cell_type": "markdown",
   "id": "9d84e2ba",
   "metadata": {},
   "source": [
    "| Data Science Tools |\n",
    "| --- |\n",
    "| RStudio |\n",
    "| Jupyter Lab |\n",
    "| Spyder |"
   ]
  },
  {
   "cell_type": "markdown",
   "id": "d425ca5b",
   "metadata": {},
   "source": [
    "### Below are a few examples of evaluating arithmetic expressions in Python."
   ]
  },
  {
   "cell_type": "code",
   "execution_count": 3,
   "id": "04c765c9",
   "metadata": {},
   "outputs": [
    {
     "data": {
      "text/plain": [
       "17"
      ]
     },
     "execution_count": 3,
     "metadata": {},
     "output_type": "execute_result"
    }
   ],
   "source": [
    "## This is a simple arithmetric expression to multiply then add integers.\n",
    "( 3 * 4 ) + 5"
   ]
  },
  {
   "cell_type": "code",
   "execution_count": 5,
   "id": "4c8c6bd8",
   "metadata": {},
   "outputs": [
    {
     "data": {
      "text/plain": [
       "3.3333333333333335"
      ]
     },
     "execution_count": 5,
     "metadata": {},
     "output_type": "execute_result"
    }
   ],
   "source": [
    "## This will convert 200 minutes to hours by dividing by 60.\n",
    "200 / 60"
   ]
  },
  {
   "cell_type": "markdown",
   "id": "2964ecdd",
   "metadata": {},
   "source": [
    "## Author\n",
    "Michelle Masiyer"
   ]
  },
  {
   "cell_type": "code",
   "execution_count": null,
   "id": "6758ae9e",
   "metadata": {},
   "outputs": [],
   "source": []
  }
 ],
 "metadata": {
  "kernelspec": {
   "display_name": "Python 3 (ipykernel)",
   "language": "python",
   "name": "python3"
  },
  "language_info": {
   "codemirror_mode": {
    "name": "ipython",
    "version": 3
   },
   "file_extension": ".py",
   "mimetype": "text/x-python",
   "name": "python",
   "nbconvert_exporter": "python",
   "pygments_lexer": "ipython3",
   "version": "3.11.5"
  }
 },
 "nbformat": 4,
 "nbformat_minor": 5
}
